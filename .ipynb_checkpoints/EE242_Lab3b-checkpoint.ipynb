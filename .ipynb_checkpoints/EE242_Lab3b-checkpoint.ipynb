{
 "cells": [
  {
   "cell_type": "markdown",
   "metadata": {},
   "source": [
    "## EE 242 Lab 3b – Frequency Domain Representation of Signals - Fourier Transform\n",
    "\n",
    "**Author names go here** \n",
    "\n",
    "This lab has 2 exercises to be completed as a team. Each should be given a separate code cell in your Notebook, followed by a markdown cell with report discussion. Your notebook should start with a markdown title and overview cell, which should be followed by an import cell that has the import statements for all assignments. For this assignment, you will need to import: numpy, the wavfile package from scipy.io, simpleaudio/librosa, and matplotlib.pyplot.  "
   ]
  },
  {
   "cell_type": "code",
   "execution_count": 26,
   "metadata": {
    "tags": []
   },
   "outputs": [],
   "source": [
    "# We'll refer to this as the \"import cell.\" Every module you import should be imported here.\n",
    "%matplotlib inline\n",
    "import numpy as np\n",
    "import matplotlib\n",
    "import scipy.signal as sig\n",
    "import matplotlib.pyplot as plt\n",
    "# import whatever other modules you use in this lab -- there are more that you need than we've included "
   ]
  },
  {
   "cell_type": "markdown",
   "metadata": {},
   "source": [
    "## Summary\n",
    "\n",
    "In this lab, we will learn how to transform signals from the time domain to the frequency domain. The concepts we’ll focus on include using a discrete implementation of the Fourier Transform (DFT) with a digitized signal and understanding the relationship between the discrete DFT index k and frequency\n",
    "ω for both the original continuous signal x(t). This is a one-week lab. "
   ]
  },
  {
   "cell_type": "markdown",
   "metadata": {},
   "source": [
    "## Lab 3b turn in checklist\n",
    "\n",
    "•\tLab 3b Jupyter notebook with code for the 2 exercises assignment in separate cells. Each assignment cell should contain markdown cells (same as lab overview cells) for the responses to lab report questions. Include your lab members’ names at the top of the notebook.\n",
    "\n",
    "**Please submit the report as PDF** \n",
    "\n",
    "\n"
   ]
  },
  {
   "cell_type": "markdown",
   "metadata": {
    "tags": []
   },
   "source": [
    "## Assignment 3 -- Analyzing frequency content of a signal\n",
    "\n",
    "For this assignment, you will use a discrete Fourier transform (specifically, the Python implementation of an FFT) to analyze the frequency content of the 100ms segment of the horn signal (from 200ms to 300ms) from assignment 3A. Because this is a periodic signal, the frequency content will have spikes, but because it is a discrete-time signal, they will have finite height. You will experiment with different FFT sizes and different plotting options. The description below assumes that you import numpy as np.\n",
    "\n",
    "**A.** Use the np.fft.fft function to compute the FFT for the 100 ms horn signal, with an fft size of nfft=1024, which you can call **x_f**. Recall that the result of the FFT will be a vector that spans frequencies [0,$f_s$]. If this is a real-valued signal, then the first half of the FFT matters: [0,nfft/2]. **x_f** is not returned in the desired order so in order to get both the positive and negative frequencies, you need to use the np.fft.fftshift function to get **x_f2**. Create two different plots of the magnitude of result using **(np.abs(.))** in a 2x1 view: one with positive and negative frequencies and one with just positive frequencies. Be sure to scale the magnitude according to time signal window length $f_s$ and signal duration. Label the frequency axis in terms of Hz by creating a vector **freq** that scales the FFT index by $f_s$/nfft. \n",
    "\n",
    "**B.** It is often the case that frequency content is plotted on a log scale. Plot the one-sided (positive frequency) magnitude using using a log scale.\n",
    "\n",
    "**C.**  Changing the size of the FFT will change the frequency resolution, but it also changes the shape of the result a bit. Just as we saw with Gibbs phenomenon where increasing the number of Fourier series coefficients gave a high frequency ringing at sharp edges, increasing the FFT window will give a “ringing” effect for sharp peaks in frequency. To see this effect, compute the FFT using nfft=2048 and plot the log magnitude only using positive frequencies. Compare to your plot from Part B. The effect is easier to see on a log scale. "
   ]
  },
  {
   "cell_type": "code",
   "execution_count": 27,
   "metadata": {
    "tags": []
   },
   "outputs": [],
   "source": [
    "# Assignment 3 - Analyzing frequency content of a signal\n",
    "\n",
    "# Part A - Using python FFT function\n",
    "# Use the np.fft.ftt function to find the fourier domain representation of the horn signal\n",
    "# Use the np.fft.fftshift to find the shifted fft\n",
    "# Plot and see the positive and negative frequencies (remember to scale the FFT index by fs/nfft and magnitude by fs*signal_duration)\n",
    "    # Seperate out the positive part into another vector\n",
    "    # Plot the seperated signal\n",
    "\n",
    "# Part B - Plot the FFT across frequency\n",
    "# Repeat the process for plotting the positive frequencies\n",
    "# Use the following to change your x-axis to logscale and plot in parallel ----- matplotlib.pyplot.xscale(value, **kwargs)\n",
    "\n",
    "# Part C - Horn Signal Ringing effect.\n",
    "# Do the same things as Part A but with nfft = 2048\n",
    "# Plot the the signal (positive frequencies only) and observe the additional ringing -- compare with Part B"
   ]
  },
  {
   "cell_type": "markdown",
   "metadata": {},
   "source": [
    "###  Discussion\n",
    "\n",
    "In assignment 3, we used specific cosine frequencies to approximate the horn note,\n",
    "assuming the signal is periodic so the harmonics have non-zero energy. The FFT results show a different picture, and the synthesized version is easily distinguished from the original. Discuss reasons for these differences."
   ]
  },
  {
   "cell_type": "markdown",
   "metadata": {
    "tags": []
   },
   "source": [
    "## Assignment 4 -- Comparing frequency content of a signal\n",
    "\n",
    "Many interesting time signals have changing frequency content. Music is one example, since different notes have different fundamental frequency. Speech is another example: we distinguish different vowels and consonants based on their frequency content. In this assignment, you will use the FFT to compare the frequency content of two different speech sounds in a sentence. We’ll use 30ms windows, where the frequency content is relatively stable.\n",
    "\n",
    "**A.**  Download the signal \"bluenose3.wav\", and read in the file. Plot the full waveform, using the sampling frequency to correctly label the time axis. Play the file.\n",
    "\n",
    "**B.**  Extract the samples corresponding to times [0.75,0.78]. (This corresponds to the “oo” sound in the word “grew.”) Using a 2x1 plot, plot the time waveform (labeling the time axis with the specified time region) and the magnitude of the frequency response (positive frequencies only, labeling the frequency axis in Hz).\n",
    "\n",
    "**C.**  Repeat the exercise above using the samples corresponding to times [2.565,2.595]. (This corresponds to the “s” sound.)"
   ]
  },
  {
   "cell_type": "code",
   "execution_count": 1,
   "metadata": {
    "tags": []
   },
   "outputs": [],
   "source": [
    "# Assignment 4 - Comparing frequency content of a signal\n",
    "\n",
    "# Part A - Reading, plotting and playing the bluenose3.wav file\n",
    "\n",
    "# Part B - Extracting ooo part of the signal\n",
    "# Extract the ooo part of the signal from 0.75 seconds to 0.78 seconds\n",
    "# Plot the signal in time and frequency domain\n",
    "\n",
    "# Part C - Extracting sss part of the signal\n",
    "# Extract the sss part of the signal from 2.565 seconds to 2.595 seconds\n",
    "# Plot the signal in time and frequency domain\n",
    "\n",
    "# Part D - Justify the difference and choice of nfft used.\n"
   ]
  },
  {
   "cell_type": "markdown",
   "metadata": {},
   "source": [
    "###  Discussion\n",
    "\n",
    "State what size FFT you used and explain your choice. Comment on the differences between the time and frequency plots for the two segments and the auditory differences."
   ]
  }
 ],
 "metadata": {
  "kernelspec": {
   "display_name": "Python 3 (ipykernel)",
   "language": "python",
   "name": "python3"
  },
  "language_info": {
   "codemirror_mode": {
    "name": "ipython",
    "version": 3
   },
   "file_extension": ".py",
   "mimetype": "text/x-python",
   "name": "python",
   "nbconvert_exporter": "python",
   "pygments_lexer": "ipython3",
   "version": "3.9.13"
  }
 },
 "nbformat": 4,
 "nbformat_minor": 4
}
